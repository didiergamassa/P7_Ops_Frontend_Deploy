{
 "cells": [
  {
   "cell_type": "markdown",
   "id": "05e3ae91",
   "metadata": {},
   "source": [
    "# ************ NOTEBOOK 3 :  MACHINE LEARNING*********** "
   ]
  },
  {
   "cell_type": "markdown",
   "id": "f49f22e1",
   "metadata": {},
   "source": [
    "Dans ce notebook, nous allons essayer d'avoir un aperçu de notre  modèle à travers le package shap. Nous allons comprendre et expliquer les variables crédibles sélectionnés .\n",
    "\n",
    "Le tracé le plus important est le tracé récapitulatif (ci-dessous dans ce cahier), qui montre les 20 variables indépendantes les plus importantes. Pour chaque variable, une distribution est tracée sur la façon dont les échantillons de données d'entrainement influencent le résultat du modèle. Plus les points sont rouges, plus la valeur de la feature est élevée, plus il y a de bleu, plus la valeur de la feature est faible.\n",
    "\n",
    "Dans ce cas, l'entité EXT_SOURCE_2 est la variable qui a le plus d'impact sur la sortie du modèle. Les échantillons de données d'entrainement avec une faible EXT_SOURCE_2 ont une probabilité plus élevée lors de l'obtention d'un prêt. Si le client a une valeur EXT_SOURCE_2 élevée, la probabilité d'obtenir un prêt est faible. Pour la barre rouge à droite, on voit que beaucoup de clients sont dans ce cas.\n"
   ]
  },
  {
   "cell_type": "markdown",
   "id": "8cf5bc07",
   "metadata": {},
   "source": [
    "# 1 Importation des librairies et jeux de données"
   ]
  },
  {
   "cell_type": "code",
   "execution_count": null,
   "id": "e73d3fb0",
   "metadata": {},
   "outputs": [],
   "source": [
    "import pandas as pd # package for high-performance, easy-to-use data structures and data analysis\n",
    "import numpy as np # fundamental package for scientific computing with Python\n",
    "import matplotlib.pyplot as plt # for plotting\n",
    "import seaborn as sns # for making plots with seaborn\n",
    "color = sns.color_palette()\n",
    "import time, pickle\n",
    "#Preprocessing, Upsampling, Model Selection, Model Evaluation\n",
    "from sklearn.model_selection import train_test_split, StratifiedKFold\n",
    "from sklearn.metrics import confusion_matrix, accuracy_score, roc_auc_score, f1_score, precision_score, recall_score \n",
    "from sklearn.metrics import classification_report, confusion_matrix, roc_curve\n",
    "from sklearn.model_selection import cross_val_predict, cross_val_score, learning_curve, cross_validate\n",
    "pd.set_option('display.max_colwidth', None)\n",
    "pd.set_option('display.max_row',250)\n",
    "pd.set_option('display.max_columns', None)\n",
    "\n",
    "import warnings\n",
    "warnings.filterwarnings(\"ignore\")"
   ]
  },
  {
   "cell_type": "markdown",
   "id": "6bbc26be",
   "metadata": {},
   "source": [
    "# 2_Importation de la libaririe lightgbm "
   ]
  },
  {
   "cell_type": "code",
   "execution_count": null,
   "id": "89756ebd",
   "metadata": {},
   "outputs": [],
   "source": [
    "#Predictive Models\n",
    "from lightgbm import LGBMClassifier\n"
   ]
  },
  {
   "cell_type": "markdown",
   "id": "7a3bcb71",
   "metadata": {},
   "source": [
    " # 3_Fonctions utiles"
   ]
  },
  {
   "cell_type": "code",
   "execution_count": null,
   "id": "ccab8342",
   "metadata": {},
   "outputs": [],
   "source": [
    "def cf_matrix_roc_auc(model, y_true, y_pred, y_pred_proba):\n",
    "    '''This function will make a pretty plot of \n",
    "  an sklearn Confusion Matrix using a Seaborn heatmap visualization + ROC Curve.'''\n",
    "    fig = plt.figure(figsize=(20,15))\n",
    "  \n",
    "    plt.subplot(221)\n",
    "    cf_matrix = confusion_matrix(y_true, y_pred)\n",
    "    group_names = ['True Neg', 'False Pos', 'False Neg', 'True Pos']\n",
    "    group_counts = [\"{0:0.0f}\".format(value) for value in cf_matrix.flatten()]\n",
    "    group_percentages = [\"{0:.2%}\".format(value) for value in cf_matrix.flatten()/np.sum(cf_matrix)]\n",
    "  \n",
    "    labels = [f\"{v1}\\n{v2}\\n{v3}\" for v1, v2, v3 in zip(group_names,group_counts,group_percentages)]\n",
    "    labels = np.asarray(labels).reshape(2,2)\n",
    "    sns.heatmap(cf_matrix, annot=labels, fmt=\"\", cmap='Blues')\n",
    "\n",
    "    plt.subplot(222)\n",
    "    fpr,tpr,_ = roc_curve(y_true, y_pred_proba)\n",
    "   # plt.plot(fpr, tpr, color='orange', linewidth=5, label='AUC = %0.4f' %roc_auc)\n",
    "    plt.plot(fpr, tpr, color='orange', linewidth=5, label='AUC = %0.4f' %roc_auc )\n",
    "    plt.plot([0, 1], [0, 1], color='darkblue', linestyle='--')\n",
    "    plt.xlabel('False Positive Rate')\n",
    "    plt.ylabel('True Positive Rate')\n",
    "    plt.legend()"
   ]
  },
  {
   "cell_type": "markdown",
   "id": "600e9cc7",
   "metadata": {},
   "source": [
    "# 4_Importation du jeux de données avec features les plus crédibles."
   ]
  },
  {
   "cell_type": "code",
   "execution_count": null,
   "id": "8c2716d6",
   "metadata": {},
   "outputs": [],
   "source": [
    "data=pd.read_csv('X_data.csv').set_index('SK_ID_CURR')"
   ]
  },
  {
   "cell_type": "code",
   "execution_count": null,
   "id": "5b4ddf81",
   "metadata": {},
   "outputs": [],
   "source": [
    "data.head()"
   ]
  },
  {
   "cell_type": "code",
   "execution_count": null,
   "id": "ad2c614a",
   "metadata": {},
   "outputs": [],
   "source": [
    "X=data.drop('TARGET',axis=1)\n",
    "Y=data['TARGET']"
   ]
  },
  {
   "cell_type": "code",
   "execution_count": null,
   "id": "710bca28",
   "metadata": {},
   "outputs": [],
   "source": [
    "print(\"Data Size : \", X.shape, Y.shape)"
   ]
  },
  {
   "cell_type": "code",
   "execution_count": null,
   "id": "1e7ae403",
   "metadata": {},
   "outputs": [],
   "source": [
    "#Create train and validation set"
   ]
  },
  {
   "cell_type": "code",
   "execution_count": null,
   "id": "a3d6c55f",
   "metadata": {},
   "outputs": [],
   "source": [
    "train_x, valid_x,train_y,valid_y = train_test_split(X, Y, train_size=0.90, test_size=0.1, stratify=Y, random_state=123)"
   ]
  },
  {
   "cell_type": "code",
   "execution_count": null,
   "id": "f33d998a",
   "metadata": {},
   "outputs": [],
   "source": [
    "print(\"Train/Valid Sizes : \", train_x.shape, valid_x.shape,train_y.shape,valid_y.shape)"
   ]
  },
  {
   "cell_type": "markdown",
   "id": "721eee2c",
   "metadata": {},
   "source": [
    "# 5_Chargement du Modèle "
   ]
  },
  {
   "cell_type": "code",
   "execution_count": null,
   "id": "d7a5cdec",
   "metadata": {},
   "outputs": [],
   "source": [
    "file = open(\"finalized_model_auc.pkl\",'rb')\n",
    "lgbm_clf_auc= pickle.load(file)\n",
    "file.close()"
   ]
  },
  {
   "cell_type": "code",
   "execution_count": null,
   "id": "2e1d9166",
   "metadata": {},
   "outputs": [],
   "source": [
    "print(lgbm_clf_auc)"
   ]
  },
  {
   "cell_type": "markdown",
   "id": "5f9c6f08",
   "metadata": {},
   "source": [
    "# 6_Generation des probabilités"
   ]
  },
  {
   "cell_type": "code",
   "execution_count": null,
   "id": "5922da7b",
   "metadata": {},
   "outputs": [],
   "source": [
    "Y_pred=lgbm_clf_auc.predict_proba(valid_x)"
   ]
  },
  {
   "cell_type": "markdown",
   "id": "67886b12",
   "metadata": {},
   "source": [
    "# 7_ Evaluation de Performance"
   ]
  },
  {
   "cell_type": "markdown",
   "id": "a6bc9021",
   "metadata": {},
   "source": [
    "## 7_1 Confusion Matrix et Graphique Roc_Auc "
   ]
  },
  {
   "cell_type": "code",
   "execution_count": null,
   "id": "6b919dd3",
   "metadata": {},
   "outputs": [],
   "source": [
    "roc_auc = roc_auc_score(valid_y, lgbm_clf_auc.predict_proba(valid_x)[:,1])\n",
    "print('AUC : %0.4f' %roc_auc)\n",
    "print(classification_report(valid_y, lgbm_clf_auc.predict(valid_x)))"
   ]
  },
  {
   "cell_type": "code",
   "execution_count": null,
   "id": "9538b314",
   "metadata": {},
   "outputs": [],
   "source": [
    "cf_matrix_roc_auc(lgbm_clf_auc, valid_y,lgbm_clf_auc.predict(valid_x), lgbm_clf_auc.predict_proba(valid_x)[:,1])"
   ]
  },
  {
   "cell_type": "markdown",
   "id": "ebbdbee4",
   "metadata": {},
   "source": [
    "# 8_ Interpretabilité du modèle de prédiction avec SHAP"
   ]
  },
  {
   "cell_type": "markdown",
   "id": "81c3c79a",
   "metadata": {},
   "source": [
    "## 8_1 Importation du package SHAP"
   ]
  },
  {
   "cell_type": "code",
   "execution_count": null,
   "id": "63e8846d",
   "metadata": {},
   "outputs": [],
   "source": [
    "import shap\n"
   ]
  },
  {
   "cell_type": "markdown",
   "id": "dafad60e",
   "metadata": {},
   "source": [
    "## 8_2 Création de shapley values"
   ]
  },
  {
   "cell_type": "code",
   "execution_count": null,
   "id": "9dd101b2",
   "metadata": {},
   "outputs": [],
   "source": [
    "shap_values = shap.TreeExplainer(lgbm_clf_auc).shap_values(valid_x)"
   ]
  },
  {
   "cell_type": "markdown",
   "id": "aa569369",
   "metadata": {},
   "source": [
    "## 8_3 Graphiques d'interpretabilité"
   ]
  },
  {
   "cell_type": "markdown",
   "id": "d849f62c",
   "metadata": {},
   "source": [
    "## 8_4 Graphique global"
   ]
  },
  {
   "cell_type": "code",
   "execution_count": null,
   "id": "13e76e6c",
   "metadata": {},
   "outputs": [],
   "source": [
    "shap.summary_plot(shap_values, valid_x)"
   ]
  },
  {
   "cell_type": "markdown",
   "id": "9f9964ed",
   "metadata": {},
   "source": [
    "# 9_Graphiques locaux avec dépendances"
   ]
  },
  {
   "cell_type": "code",
   "execution_count": null,
   "id": "d562baec",
   "metadata": {},
   "outputs": [],
   "source": [
    "shap.dependence_plot(\"EXT_SOURCE_2\", shap_values[0], valid_x)"
   ]
  },
  {
   "cell_type": "code",
   "execution_count": null,
   "id": "a133c83d",
   "metadata": {},
   "outputs": [],
   "source": [
    "shap.dependence_plot(\"EXT_SOURCE_2\", shap_values[1], valid_x)"
   ]
  },
  {
   "cell_type": "code",
   "execution_count": null,
   "id": "b4bba4d5",
   "metadata": {},
   "outputs": [],
   "source": [
    "shap.dependence_plot(\"CODE_GENDER_M\", shap_values[0], valid_x)"
   ]
  },
  {
   "cell_type": "code",
   "execution_count": null,
   "id": "d198f5cd",
   "metadata": {},
   "outputs": [],
   "source": [
    "shap.dependence_plot(\"CODE_GENDER_M\", shap_values[1], valid_x)"
   ]
  },
  {
   "cell_type": "code",
   "execution_count": null,
   "id": "9bbb51e1",
   "metadata": {},
   "outputs": [],
   "source": [
    "shap.dependence_plot(\"Age\", shap_values[0], valid_x)"
   ]
  },
  {
   "cell_type": "code",
   "execution_count": null,
   "id": "d3ca27dc",
   "metadata": {},
   "outputs": [],
   "source": [
    "shap.dependence_plot(\"Age\", shap_values[1], valid_x)"
   ]
  },
  {
   "cell_type": "code",
   "execution_count": null,
   "id": "cb39885e",
   "metadata": {},
   "outputs": [],
   "source": [
    "shap.dependence_plot(\"NAME_FAMILY_STATUS_Married\", shap_values[1], valid_x)"
   ]
  },
  {
   "cell_type": "code",
   "execution_count": null,
   "id": "eaeeae1e",
   "metadata": {},
   "outputs": [],
   "source": [
    "shap.dependence_plot(\"NAME_FAMILY_STATUS_Married\", shap_values[0], valid_x)"
   ]
  },
  {
   "cell_type": "markdown",
   "id": "7d209d6b",
   "metadata": {},
   "source": [
    "# 10 Conception de la mise à jour description des variables à implémenter dans l'application Scoring Client"
   ]
  },
  {
   "cell_type": "code",
   "execution_count": null,
   "id": "db797537",
   "metadata": {},
   "outputs": [],
   "source": [
    "# Creating the dataframe\n",
    "data = pd.read_csv(\"X_data.csv\").rename(columns={'Age':'DAYS_BIRTH'})\n",
    "data"
   ]
  },
  {
   "cell_type": "code",
   "execution_count": null,
   "id": "ddd05d9c",
   "metadata": {},
   "outputs": [],
   "source": [
    "ds_sample=data.sample(10000)\n",
    "ds_sample"
   ]
  },
  {
   "cell_type": "code",
   "execution_count": null,
   "id": "b2c0275f",
   "metadata": {},
   "outputs": [],
   "source": [
    "# sort by index labels\n",
    "data_ski=ds_sample.set_index('SK_ID_CURR').sort_index(axis = 0)\n",
    "\n",
    "# sorting based on column labels\n",
    "data_skil=data_ski.sort_index(axis=1)\n",
    "\n",
    "data_skil.to_csv('data.skill.csv',index=True)\n",
    "data=pd.read_csv('data.skill.csv')"
   ]
  },
  {
   "cell_type": "code",
   "execution_count": null,
   "id": "6c355fa4",
   "metadata": {
    "scrolled": true
   },
   "outputs": [],
   "source": [
    "appli_descriptif=pd.DataFrame(data.columns.values,columns=['Row'])\n",
    "appli_descriptif.sort_values(by=['Row'])"
   ]
  },
  {
   "cell_type": "code",
   "execution_count": null,
   "id": "0b6f88a8",
   "metadata": {},
   "outputs": [],
   "source": [
    "Old_Descriptif = (pd.read_csv('HomeCredit_columns_description.csv', usecols = ['Row','Description'], encoding='latin'))\n",
    "Old_Descriptif"
   ]
  },
  {
   "cell_type": "code",
   "execution_count": null,
   "id": "1eb91ddf",
   "metadata": {
    "scrolled": true
   },
   "outputs": [],
   "source": [
    "Matching_Descriptif = appli_descriptif.merge(Old_Descriptif, on=\"Row\",how = 'inner')\n",
    "Matching_Descriptif.drop_duplicates(inplace=True)\n",
    "Matching_Descriptif.drop_duplicates(subset='Row', keep=\"last\",inplace=True)\n",
    "Matching_Descriptif.reset_index(drop=True,inplace=True)\n",
    "Matching_Descriptif"
   ]
  },
  {
   "cell_type": "code",
   "execution_count": null,
   "id": "d484276d",
   "metadata": {},
   "outputs": [],
   "source": [
    "list_old_descriptif = [list(Old_Descriptif['Row']),list(Old_Descriptif['Description'])]\n",
    "list_new_descriptif= [list(Matching_Descriptif['Row']),list(Matching_Descriptif['Description'])]\n",
    "list_new_row= list(data.columns.values)\n",
    "tempIte = 0\n",
    "\n",
    "for index, el in enumerate(list_old_descriptif[0]):\n",
    "    if not el in list_new_descriptif[0]:\n",
    "        for newEl in list_new_row:\n",
    "            if (el in newEl):\n",
    "                if not newEl in list_new_descriptif[0]:\n",
    "                    list_new_descriptif[0].append(newEl)\n",
    "                    list_new_descriptif[1].append(list_old_descriptif[1][index])\n",
    "\n",
    "for el in list_new_row:\n",
    "    if not (el in list_new_descriptif[0]):\n",
    "        list_new_descriptif[0].append(el)\n",
    "        list_new_descriptif[1].append(\"NULL\")\n",
    "        "
   ]
  },
  {
   "cell_type": "code",
   "execution_count": null,
   "id": "ab109436",
   "metadata": {
    "scrolled": false
   },
   "outputs": [],
   "source": [
    "appli_var_descriptif=(pd.DataFrame(list_new_descriptif).transpose()).rename(columns={0:\"Variable\",1 :\"Description\"})\n",
    "appli_var_descriptif.sort_values(by=['Variable'],inplace=True)\n",
    "appli_var_descriptif.reset_index(drop=True,inplace=True)\n",
    "appli_var_descriptif"
   ]
  },
  {
   "cell_type": "code",
   "execution_count": null,
   "id": "234d9bc5",
   "metadata": {},
   "outputs": [],
   "source": [
    "appli_var_descriptif.loc[31,'Description']=\"ratio of credit amount to total customer revenue \""
   ]
  },
  {
   "cell_type": "code",
   "execution_count": null,
   "id": "5be59911",
   "metadata": {},
   "outputs": [],
   "source": [
    "appli_var_descriptif.loc[36,'Description']=\"ratio of the total amount of debits in credits to the sum of credits\""
   ]
  },
  {
   "cell_type": "code",
   "execution_count": null,
   "id": "1b1fbde3",
   "metadata": {},
   "outputs": [],
   "source": [
    "appli_var_descriptif.loc[72,'Description']=\"ratio of the total customer overdue to the total customer debt\""
   ]
  },
  {
   "cell_type": "code",
   "execution_count": null,
   "id": "a3ca850c",
   "metadata": {},
   "outputs": [],
   "source": [
    "appli_var_descriptif.loc[73,'Description']=\"Previous amount of credit\""
   ]
  },
  {
   "cell_type": "code",
   "execution_count": null,
   "id": "48b13be7",
   "metadata": {},
   "outputs": [],
   "source": [
    "appli_var_descriptif.loc[75,'Description']=\"Previous applicant count\""
   ]
  },
  {
   "cell_type": "code",
   "execution_count": null,
   "id": "7e04cd96",
   "metadata": {},
   "outputs": [],
   "source": [
    "appli_var_descriptif"
   ]
  },
  {
   "cell_type": "code",
   "execution_count": null,
   "id": "c5303de9",
   "metadata": {},
   "outputs": [],
   "source": [
    "appli_var_descriptif.to_csv('appli_descriptif.csv',index=False)"
   ]
  },
  {
   "cell_type": "code",
   "execution_count": null,
   "id": "54466581",
   "metadata": {},
   "outputs": [],
   "source": []
  }
 ],
 "metadata": {
  "kernelspec": {
   "display_name": "Python 3 (ipykernel)",
   "language": "python",
   "name": "python3"
  },
  "language_info": {
   "codemirror_mode": {
    "name": "ipython",
    "version": 3
   },
   "file_extension": ".py",
   "mimetype": "text/x-python",
   "name": "python",
   "nbconvert_exporter": "python",
   "pygments_lexer": "ipython3",
   "version": "3.8.10"
  }
 },
 "nbformat": 4,
 "nbformat_minor": 5
}
